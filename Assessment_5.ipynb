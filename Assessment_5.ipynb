{
 "cells": [
  {
   "cell_type": "markdown",
   "metadata": {},
   "source": [
    "# Problem Statment\n",
    "\n",
    "5.\tCreate a simple program that asks you to enter some English text. The program should respond with a voice message saying, “The text you entered is <text>”. This is a straight-forward use of Amazon Polly API. Submit the program, output, as well as the mp3 file containing the voice message."
   ]
  },
  {
   "cell_type": "code",
   "execution_count": 1,
   "metadata": {},
   "outputs": [],
   "source": [
    "import boto3\n",
    "from contextlib import closing\n",
    "from pygame import mixer"
   ]
  },
  {
   "cell_type": "markdown",
   "metadata": {
    "collapsed": true
   },
   "source": [
    "# Main Program"
   ]
  },
  {
   "cell_type": "code",
   "execution_count": 2,
   "metadata": {},
   "outputs": [],
   "source": [
    "def polly_convert_txt_voice():\n",
    "   my_text = input(\"Enter some input text:\")\n",
    "   final_text = \"The text you entered is\" + my_text\n",
    "   client = boto3.client('polly', region_name='eu-west-2')\n",
    "   response = client.synthesize_speech(Text=final_text, OutputFormat='mp3', VoiceId='Joanna')\n",
    "   if \"AudioStream\" in response:\n",
    "        with closing(response[\"AudioStream\"]) as stream:\n",
    "            data = stream.read()\n",
    "            fo = open(\"pollyreadmsg.mp3\", \"wb\")\n",
    "            fo.write( data )\n",
    "            fo.close()\n",
    "   mixer.init()\n",
    "   mixer.music.load(\"pollyreadmsg.mp3\")\n",
    "   mixer.music.play()"
   ]
  },
  {
   "cell_type": "code",
   "execution_count": 3,
   "metadata": {},
   "outputs": [
    {
     "name": "stdout",
     "output_type": "stream",
     "text": [
      "Enter some input text:Hi, How are you doing today?\n"
     ]
    }
   ],
   "source": [
    "polly_convert_txt_voice()"
   ]
  }
 ],
 "metadata": {
  "kernelspec": {
   "display_name": "Python 3",
   "language": "python",
   "name": "python3"
  },
  "language_info": {
   "codemirror_mode": {
    "name": "ipython",
    "version": 3
   },
   "file_extension": ".py",
   "mimetype": "text/x-python",
   "name": "python",
   "nbconvert_exporter": "python",
   "pygments_lexer": "ipython3",
   "version": "3.6.5"
  }
 },
 "nbformat": 4,
 "nbformat_minor": 2
}
