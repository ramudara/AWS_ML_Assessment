{
 "cells": [
  {
   "cell_type": "markdown",
   "metadata": {},
   "source": [
    "# Problem Statement\n",
    "\n",
    "4.\tUse Amazon Rekognition to detect the presence or absence of any specific object in an image. Select an object of your choice. Submit code, images and outputs. Show both the positive and negative use cases."
   ]
  },
  {
   "cell_type": "code",
   "execution_count": 1,
   "metadata": {
    "collapsed": false
   },
   "outputs": [],
   "source": [
    "import boto3\n",
    "\n",
    "def find_obj_in_img():\n",
    "\n",
    "    imageFile=input(\"Enter the image file name:\")\n",
    "    objName = input(\"\\nEnter the object name which you want to search in the above image file:\")\n",
    "    client=boto3.client('rekognition')\n",
    "   \n",
    "    with open(imageFile, 'rb') as image:\n",
    "        response = client.detect_labels(Image={'Bytes': image.read()})\n",
    "        \n",
    "    print('/********Detecting object ' + objName +' in ' + imageFile + '*************/')\n",
    "    found = 0\n",
    "    for label in response['Labels']:\n",
    "        if objName in label.values():\n",
    "            found = 1\n",
    "        else:\n",
    "            continue\n",
    "    if found == 1:\n",
    "        print(\"Object {} found in {}\".format(objName,imageFile))\n",
    "    else:\n",
    "        print(\"Object {} not found in {}\".format(objName,imageFile))"
   ]
  },
  {
   "cell_type": "code",
   "execution_count": 2,
   "metadata": {
    "collapsed": false
   },
   "outputs": [
    {
     "name": "stdout",
     "output_type": "stream",
     "text": [
      "Enter the image file name:scenary.jpg\n",
      "\n",
      "Enter the object name which you want to search in the above image file:Land\n",
      "/********Detecting object Land in scenary.jpg*************/\n",
      "Object Land found in scenary.jpg\n"
     ]
    }
   ],
   "source": [
    "find_obj_in_img()"
   ]
  },
  {
   "cell_type": "code",
   "execution_count": 3,
   "metadata": {
    "collapsed": false
   },
   "outputs": [
    {
     "name": "stdout",
     "output_type": "stream",
     "text": [
      "Enter the image file name:scenary.jpg\n",
      "\n",
      "Enter the object name which you want to search in the above image file:Human\n",
      "/********Detecting object Human in scenary.jpg*************/\n",
      "Object Human not found in scenary.jpg\n"
     ]
    }
   ],
   "source": [
    "find_obj_in_img()"
   ]
  },
  {
   "cell_type": "code",
   "execution_count": null,
   "metadata": {
    "collapsed": true
   },
   "outputs": [],
   "source": []
  }
 ],
 "metadata": {
  "kernelspec": {
   "display_name": "Python 3",
   "language": "python",
   "name": "python3"
  },
  "language_info": {
   "codemirror_mode": {
    "name": "ipython",
    "version": 3
   },
   "file_extension": ".py",
   "mimetype": "text/x-python",
   "name": "python",
   "nbconvert_exporter": "python",
   "pygments_lexer": "ipython3",
   "version": "3.4.2"
  }
 },
 "nbformat": 4,
 "nbformat_minor": 2
}
